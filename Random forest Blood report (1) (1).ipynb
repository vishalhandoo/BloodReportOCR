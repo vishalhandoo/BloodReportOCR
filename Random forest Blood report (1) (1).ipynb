{
 "cells": [
  {
   "cell_type": "code",
   "execution_count": 1,
   "id": "52b400b9",
   "metadata": {
    "scrolled": true
   },
   "outputs": [],
   "source": [
    "import pandas as pd"
   ]
  },
  {
   "cell_type": "code",
   "execution_count": 2,
   "id": "d39977b0",
   "metadata": {},
   "outputs": [],
   "source": [
    "dataset = pd.read_excel(r\"C:\\Users\\rajsi\\Downloads\\Blood-Report-Analysis-main\\Blood-Report-Analysis-main\\Copy of dataset.xlsx\")"
   ]
  },
  {
   "cell_type": "code",
   "execution_count": 3,
   "id": "eb0879e5",
   "metadata": {},
   "outputs": [
    {
     "data": {
      "text/html": [
       "<div>\n",
       "<style scoped>\n",
       "    .dataframe tbody tr th:only-of-type {\n",
       "        vertical-align: middle;\n",
       "    }\n",
       "\n",
       "    .dataframe tbody tr th {\n",
       "        vertical-align: top;\n",
       "    }\n",
       "\n",
       "    .dataframe thead th {\n",
       "        text-align: right;\n",
       "    }\n",
       "</style>\n",
       "<table border=\"1\" class=\"dataframe\">\n",
       "  <thead>\n",
       "    <tr style=\"text-align: right;\">\n",
       "      <th></th>\n",
       "      <th>Gender</th>\n",
       "      <th>Age</th>\n",
       "      <th>HGB</th>\n",
       "      <th>Thrombocytes</th>\n",
       "      <th>leukocytes</th>\n",
       "      <th>Neutrophil</th>\n",
       "      <th>Eosinophil</th>\n",
       "      <th>Basophil</th>\n",
       "      <th>Lymphocyte</th>\n",
       "      <th>Monocyte</th>\n",
       "      <th>class</th>\n",
       "    </tr>\n",
       "  </thead>\n",
       "  <tbody>\n",
       "    <tr>\n",
       "      <th>0</th>\n",
       "      <td>1</td>\n",
       "      <td>14</td>\n",
       "      <td>11.741403</td>\n",
       "      <td>2.797451</td>\n",
       "      <td>7.293167</td>\n",
       "      <td>48</td>\n",
       "      <td>3</td>\n",
       "      <td>1</td>\n",
       "      <td>30</td>\n",
       "      <td>3</td>\n",
       "      <td>1</td>\n",
       "    </tr>\n",
       "    <tr>\n",
       "      <th>1</th>\n",
       "      <td>1</td>\n",
       "      <td>17</td>\n",
       "      <td>11.780947</td>\n",
       "      <td>3.325040</td>\n",
       "      <td>5.029948</td>\n",
       "      <td>53</td>\n",
       "      <td>3</td>\n",
       "      <td>0</td>\n",
       "      <td>25</td>\n",
       "      <td>9</td>\n",
       "      <td>1</td>\n",
       "    </tr>\n",
       "    <tr>\n",
       "      <th>2</th>\n",
       "      <td>1</td>\n",
       "      <td>8</td>\n",
       "      <td>11.659685</td>\n",
       "      <td>1.810470</td>\n",
       "      <td>9.106578</td>\n",
       "      <td>50</td>\n",
       "      <td>5</td>\n",
       "      <td>0</td>\n",
       "      <td>20</td>\n",
       "      <td>6</td>\n",
       "      <td>1</td>\n",
       "    </tr>\n",
       "    <tr>\n",
       "      <th>3</th>\n",
       "      <td>1</td>\n",
       "      <td>8</td>\n",
       "      <td>12.066457</td>\n",
       "      <td>1.831865</td>\n",
       "      <td>5.376189</td>\n",
       "      <td>54</td>\n",
       "      <td>1</td>\n",
       "      <td>1</td>\n",
       "      <td>23</td>\n",
       "      <td>2</td>\n",
       "      <td>1</td>\n",
       "    </tr>\n",
       "    <tr>\n",
       "      <th>4</th>\n",
       "      <td>1</td>\n",
       "      <td>10</td>\n",
       "      <td>11.522367</td>\n",
       "      <td>3.987018</td>\n",
       "      <td>9.990269</td>\n",
       "      <td>44</td>\n",
       "      <td>1</td>\n",
       "      <td>1</td>\n",
       "      <td>26</td>\n",
       "      <td>9</td>\n",
       "      <td>1</td>\n",
       "    </tr>\n",
       "  </tbody>\n",
       "</table>\n",
       "</div>"
      ],
      "text/plain": [
       "   Gender  Age        HGB  Thrombocytes  leukocytes  Neutrophil  Eosinophil  \\\n",
       "0       1   14  11.741403      2.797451    7.293167          48           3   \n",
       "1       1   17  11.780947      3.325040    5.029948          53           3   \n",
       "2       1    8  11.659685      1.810470    9.106578          50           5   \n",
       "3       1    8  12.066457      1.831865    5.376189          54           1   \n",
       "4       1   10  11.522367      3.987018    9.990269          44           1   \n",
       "\n",
       "   Basophil  Lymphocyte  Monocyte  class  \n",
       "0         1          30         3      1  \n",
       "1         0          25         9      1  \n",
       "2         0          20         6      1  \n",
       "3         1          23         2      1  \n",
       "4         1          26         9      1  "
      ]
     },
     "execution_count": 3,
     "metadata": {},
     "output_type": "execute_result"
    }
   ],
   "source": [
    "dataset.head()"
   ]
  },
  {
   "cell_type": "code",
   "execution_count": 4,
   "id": "5cbd8d0c",
   "metadata": {},
   "outputs": [],
   "source": [
    "from sklearn.model_selection import train_test_split\n",
    "from sklearn.preprocessing import LabelEncoder"
   ]
  },
  {
   "cell_type": "code",
   "execution_count": null,
   "id": "4301cae5",
   "metadata": {},
   "outputs": [],
   "source": []
  },
  {
   "cell_type": "code",
   "execution_count": 5,
   "id": "a24469d4",
   "metadata": {},
   "outputs": [],
   "source": [
    "X = dataset.drop(\"class\",axis=1)\n",
    "y = dataset['class']"
   ]
  },
  {
   "cell_type": "code",
   "execution_count": 6,
   "id": "17919e31",
   "metadata": {},
   "outputs": [],
   "source": [
    "X_train,X_test,y_train,y_test=train_test_split(X,y, test_size=0.3, random_state=20)"
   ]
  },
  {
   "cell_type": "code",
   "execution_count": 7,
   "id": "e7ca560a",
   "metadata": {},
   "outputs": [
    {
     "data": {
      "text/plain": [
       "((3150, 10), (1350, 10), (3150,), (1350,))"
      ]
     },
     "execution_count": 7,
     "metadata": {},
     "output_type": "execute_result"
    }
   ],
   "source": [
    "X_train.shape,X_test.shape,y_train.shape,y_test.shape"
   ]
  },
  {
   "cell_type": "code",
   "execution_count": 8,
   "id": "efd200f3",
   "metadata": {},
   "outputs": [
    {
     "data": {
      "text/plain": [
       "0        1\n",
       "1        1\n",
       "2        1\n",
       "3        1\n",
       "4        1\n",
       "        ..\n",
       "4495    15\n",
       "4496    15\n",
       "4497    15\n",
       "4498    15\n",
       "4499    15\n",
       "Name: class, Length: 4500, dtype: int64"
      ]
     },
     "execution_count": 8,
     "metadata": {},
     "output_type": "execute_result"
    }
   ],
   "source": [
    "y"
   ]
  },
  {
   "cell_type": "code",
   "execution_count": 9,
   "id": "82909a43",
   "metadata": {},
   "outputs": [],
   "source": [
    "from sklearn.datasets import make_classification\n",
    "from sklearn.svm import SVC\n",
    "from sklearn.ensemble import RandomForestClassifier,GradientBoostingClassifier\n",
    "from sklearn.neighbors import KNeighborsClassifier\n",
    "from sklearn.naive_bayes import MultinomialNB\n",
    "\n",
    "from sklearn.metrics import accuracy_score, confusion_matrix\n",
    "import numpy as np\n"
   ]
  },
  {
   "cell_type": "code",
   "execution_count": null,
   "id": "036ed76f",
   "metadata": {},
   "outputs": [],
   "source": []
  },
  {
   "cell_type": "code",
   "execution_count": 10,
   "id": "06b12a9c",
   "metadata": {},
   "outputs": [
    {
     "name": "stdout",
     "output_type": "stream",
     "text": [
      "SVC accuracy: 0.9859259259259259\n",
      "SVC Confusion Matrix:\n",
      "[[90 0 0 0 0 1 0 0 0 0 0 0 0 1 0]\n",
      " [ 092 0 0 0 0 0 0 0 0 0 0 0 0 0]\n",
      " [ 0 296 4 0 0 0 0 0 0 0 0 0 0 0]\n",
      " [ 0 0 098 0 0 0 0 0 0 0 0 0 0 0]\n",
      " [ 0 0 0 096 0 0 0 0 0 0 0 0 0 0]\n",
      " [ 0 0 0 0 083 0 0 0 0 0 0 0 0 0]\n",
      " [ 0 0 0 0 0 090 3 0 0 0 0 0 0 0]\n",
      " [ 0 0 0 0 0 0 580 0 0 0 0 0 0 0]\n",
      " [ 0 0 0 0 0 0 0 097 0 0 0 0 0 0]\n",
      " [ 0 0 0 0 0 0 0 0 090 0 0 0 0 0]\n",
      " [ 0 0 0 0 0 0 0 0 0 086 0 0 0 0]\n",
      " [ 0 0 0 0 0 0 0 0 0 0 071 0 0 0]\n",
      " [ 0 0 0 0 0 0 0 0 0 0 0 086 0 0]\n",
      " [ 0 1 0 0 0 0 0 0 0 0 0 0 090 0]\n",
      " [ 0 0 0 0 0 0 2 0 0 0 0 0 0 086]]\n",
      "RandomForest accuracy: 1.0\n",
      "RandomForest Confusion Matrix:\n",
      "[[ 92  0  0  0  0  0  0  0  0  0  0  0  0  0  0]\n",
      " [  0 92  0  0  0  0  0  0  0  0  0  0  0  0  0]\n",
      " [  0  0102  0  0  0  0  0  0  0  0  0  0  0  0]\n",
      " [  0  0  0 98  0  0  0  0  0  0  0  0  0  0  0]\n",
      " [  0  0  0  0 96  0  0  0  0  0  0  0  0  0  0]\n",
      " [  0  0  0  0  0 83  0  0  0  0  0  0  0  0  0]\n",
      " [  0  0  0  0  0  0 93  0  0  0  0  0  0  0  0]\n",
      " [  0  0  0  0  0  0  0 85  0  0  0  0  0  0  0]\n",
      " [  0  0  0  0  0  0  0  0 97  0  0  0  0  0  0]\n",
      " [  0  0  0  0  0  0  0  0  0 90  0  0  0  0  0]\n",
      " [  0  0  0  0  0  0  0  0  0  0 86  0  0  0  0]\n",
      " [  0  0  0  0  0  0  0  0  0  0  0 71  0  0  0]\n",
      " [  0  0  0  0  0  0  0  0  0  0  0  0 86  0  0]\n",
      " [  0  0  0  0  0  0  0  0  0  0  0  0  0 91  0]\n",
      " [  0  0  0  0  0  0  0  0  0  0  0  0  0  0 88]]\n",
      "GradientBoosting accuracy: 0.9985185185185185\n",
      "GradientBoosting Confusion Matrix:\n",
      "[[ 92  0  0  0  0  0  0  0  0  0  0  0  0  0  0]\n",
      " [  0 92  0  0  0  0  0  0  0  0  0  0  0  0  0]\n",
      " [  2  0100  0  0  0  0  0  0  0  0  0  0  0  0]\n",
      " [  0  0  0 98  0  0  0  0  0  0  0  0  0  0  0]\n",
      " [  0  0  0  0 96  0  0  0  0  0  0  0  0  0  0]\n",
      " [  0  0  0  0  0 83  0  0  0  0  0  0  0  0  0]\n",
      " [  0  0  0  0  0  0 93  0  0  0  0  0  0  0  0]\n",
      " [  0  0  0  0  0  0  0 85  0  0  0  0  0  0  0]\n",
      " [  0  0  0  0  0  0  0  0 97  0  0  0  0  0  0]\n",
      " [  0  0  0  0  0  0  0  0  0 90  0  0  0  0  0]\n",
      " [  0  0  0  0  0  0  0  0  0  0 86  0  0  0  0]\n",
      " [  0  0  0  0  0  0  0  0  0  0  0 71  0  0  0]\n",
      " [  0  0  0  0  0  0  0  0  0  0  0  0 86  0  0]\n",
      " [  0  0  0  0  0  0  0  0  0  0  0  0  0 91  0]\n",
      " [  0  0  0  0  0  0  0  0  0  0  0  0  0  0 88]]\n",
      "KNeighbors accuracy: 0.4948148148148148\n",
      "KNeighbors Confusion Matrix:\n",
      "[[3313 0 1 0 7 1 4 8 6 0 0 7 5 7]\n",
      " [194121 3 0 0 0 0 4 0 0 0 1 3 0]\n",
      " [ 4373523 0 0 0 0 0 1 0 1 0 1 0]\n",
      " [ 0253231 9 0 0 0 0 0 0 1 0 0 0]\n",
      " [ 0 0 43161 0 0 0 0 0 0 0 0 0 0]\n",
      " [ 8 0 0 0 0391419 2 0 0 0 0 0 1]\n",
      " [10 0 0 0 0302026 0 4 0 1 0 0 2]\n",
      " [ 5 1 0 0 0302522 2 0 0 0 0 0 0]\n",
      " [2311 2 0 0 9 5 337 2 0 0 2 0 3]\n",
      " [19 5 0 0 0 4 4 4 247 0 0 2 2 1]\n",
      " [ 0 0 0 0 0 0 0 0 0 086 0 0 0 0]\n",
      " [ 0 0 0 0 0 0 0 0 1 0 070 0 0 0]\n",
      " [15 5 0 0 0 1 2 1 3 0 0 157 1 0]\n",
      " [1710 0 0 0 2 0 1 6 3 0 1 348 0]\n",
      " [23 2 0 0 0 7 6 4 4 0 0 0 1 041]]\n",
      "MultinomialNB accuracy: 0.5918518518518519\n",
      "MultinomialNB Confusion Matrix:\n",
      "[[2025 0 0 0 9 0 0 5 3 4 811 4 3]\n",
      " [ 33315 0 0 0 0 0 3 3 4 11416 0]\n",
      " [ 03440 5 0 0 0 0 0 0 2 410 7 0]\n",
      " [ 0 93636 3 0 0 0 0 0 2 2 4 6 0]\n",
      " [ 0 010 877 0 0 0 0 0 1 0 0 0 0]\n",
      " [ 3 0 0 0 036 2 9 5 4 1 3 8 012]\n",
      " [ 0 0 0 0 0202132 0 0 3 5 4 0 8]\n",
      " [ 0 0 0 0 0 13144 0 0 0 1 1 0 7]\n",
      " [ 015 0 0 0 0 0 077 0 1 3 1 0 0]\n",
      " [ 0 8 0 0 0 0 0 0 076 3 1 2 0 0]\n",
      " [ 0 0 0 0 0 0 0 0 0 086 0 0 0 0]\n",
      " [ 0 0 0 0 0 0 0 0 0 0 071 0 0 0]\n",
      " [ 011 0 0 0 0 0 0 0 0 1 370 0 1]\n",
      " [ 128 1 0 0 0 0 0 0 0 1 3 156 0]\n",
      " [ 6 0 0 0 0 0 0 7 4 1 2 5 7 056]]\n"
     ]
    }
   ],
   "source": [
    "models = {\n",
    "    \"SVC\": SVC(kernel='linear'),\n",
    "    \"RandomForest\": RandomForestClassifier(n_estimators=100, random_state=42),\n",
    "    'GradientBoosting': GradientBoostingClassifier(n_estimators=100, random_state=42),\n",
    "    \"KNeighbors\": KNeighborsClassifier(n_neighbors=5),\n",
    "    \"MultinomialNB\": MultinomialNB()\n",
    "}\n",
    "\n",
    "for model_name, model in models.items():\n",
    "    model.fit(X_train, y_train)\n",
    "    predictions = model.predict(X_test)\n",
    "\n",
    "    accuracy = accuracy_score(y_test, predictions)\n",
    "\n",
    "    cm = confusion_matrix(y_test, predictions)\n",
    "\n",
    "    print(f\"{model_name} accuracy: {accuracy}\")\n",
    "    print(f\"{model_name} Confusion Matrix:\")\n",
    "    print(np.array2string(cm, separator=''))\n"
   ]
  },
  {
   "cell_type": "code",
   "execution_count": null,
   "id": "f9fb1676",
   "metadata": {},
   "outputs": [],
   "source": []
  },
  {
   "cell_type": "code",
   "execution_count": 63,
   "id": "dd7ed803",
   "metadata": {},
   "outputs": [],
   "source": []
  },
  {
   "cell_type": "code",
   "execution_count": null,
   "id": "141a4621",
   "metadata": {},
   "outputs": [],
   "source": []
  },
  {
   "cell_type": "code",
   "execution_count": null,
   "id": "5e0724e6",
   "metadata": {},
   "outputs": [],
   "source": []
  },
  {
   "cell_type": "code",
   "execution_count": 13,
   "id": "6bbde1b9",
   "metadata": {},
   "outputs": [
    {
     "name": "stdout",
     "output_type": "stream",
     "text": [
      "Accuracy: 1.0\n"
     ]
    }
   ],
   "source": [
    "from sklearn.ensemble import RandomForestClassifier\n",
    "from sklearn.metrics import accuracy_score\n",
    "\n",
    "# Create a RandomForestClassifier instance\n",
    "rfc = RandomForestClassifier()\n",
    "\n",
    "# Train the model\n",
    "rfc.fit(X_train, y_train)\n",
    "\n",
    "# Make predictions\n",
    "ypred = rfc.predict(X_test)\n",
    "\n",
    "# Calculate accuracy\n",
    "accuracy = accuracy_score(y_test, ypred)\n",
    "print(\"Accuracy:\", accuracy)\n"
   ]
  },
  {
   "cell_type": "code",
   "execution_count": 14,
   "id": "1d077f66",
   "metadata": {},
   "outputs": [],
   "source": [
    "import pickle \n",
    "pickle.dump(rfc,open(\"rfc.pkl\",'wb'))"
   ]
  },
  {
   "cell_type": "code",
   "execution_count": 15,
   "id": "42827be1",
   "metadata": {},
   "outputs": [],
   "source": [
    "rfc = pickle.load(open(r\"C:\\Users\\rajsi\\Downloads\\rfc.pkl\",'rb'))"
   ]
  },
  {
   "cell_type": "code",
   "execution_count": 16,
   "id": "f68b24be",
   "metadata": {},
   "outputs": [
    {
     "name": "stderr",
     "output_type": "stream",
     "text": [
      "C:\\Users\\rajsi\\AppData\\Roaming\\Python\\Python39\\site-packages\\sklearn\\base.py:493: UserWarning: X does not have valid feature names, but RandomForestClassifier was fitted with feature names\n",
      "  warnings.warn(\n"
     ]
    },
    {
     "data": {
      "text/plain": [
       "array([14], dtype=int64)"
      ]
     },
     "execution_count": 16,
     "metadata": {},
     "output_type": "execute_result"
    }
   ],
   "source": [
    "rfc.predict(X_test.iloc[10].values.reshape(1,-1))"
   ]
  },
  {
   "cell_type": "code",
   "execution_count": null,
   "id": "f8c02150",
   "metadata": {},
   "outputs": [],
   "source": []
  }
 ],
 "metadata": {
  "kernelspec": {
   "display_name": "Python 3 (ipykernel)",
   "language": "python",
   "name": "python3"
  },
  "language_info": {
   "codemirror_mode": {
    "name": "ipython",
    "version": 3
   },
   "file_extension": ".py",
   "mimetype": "text/x-python",
   "name": "python",
   "nbconvert_exporter": "python",
   "pygments_lexer": "ipython3",
   "version": "3.9.13"
  }
 },
 "nbformat": 4,
 "nbformat_minor": 5
}
